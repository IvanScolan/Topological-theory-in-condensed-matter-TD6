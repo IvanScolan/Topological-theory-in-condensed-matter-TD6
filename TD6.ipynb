{
 "cells": [
  {
   "cell_type": "markdown",
   "metadata": {},
   "source": [
    "In the continum limit, the Hamiltonian for a one-dimensional quantum wire with Rashba spin-orbit couplings reads \n",
    "\n",
    "$$\n",
    "\\begin{equation}\n",
    "    \\begin{split}\n",
    "        H_W=\\int dy \\begin{pmatrix}\n",
    "                        \\psi_{\\uparrow}^\\dagger & \\psi_{\\downarrow}^\\dagger\\\\\n",
    "                    \\end{pmatrix}\\left(\\frac{p^2}{2m}-\\mu +\\alpha p \\sigma_z\\right)\\begin{pmatrix}\n",
    "                        \\psi_{\\uparrow}\\\\\n",
    "                        \\psi_{\\downarrow}\\\\\n",
    "                    \\end{pmatrix}\n",
    "    \\end{split}\n",
    "\\end{equation}\n",
    "$$\n",
    "\n",
    "Let us denote $\\frac{p^2}{2m}-\\mu=:\\mathcal{E}(p)$. One can show that the Hamiltonian $H_W$ can be rewritten as follows\n",
    "\n",
    "$$\n",
    "\\begin{equation}\n",
    "    \\begin{split}\n",
    "        H_W=\\int dy \\psi_{\\uparrow}^\\dagger E_{\\uparrow}(p)\\psi_{\\uparrow}+\\int dy \\psi_{\\downarrow}^\\dagger E_{\\downarrow}(p)\\psi_{\\downarrow}\n",
    "    \\end{split}\n",
    "\\end{equation}\n",
    "$$\n",
    "\n",
    "where $E_{\\uparrow \\downarrow}(p)=\\mathcal{E}(p) \\pm \\alpha p$.\n"
   ]
  }
 ],
 "metadata": {
  "kernelspec": {
   "display_name": "base",
   "language": "python",
   "name": "python3"
  },
  "language_info": {
   "codemirror_mode": {
    "name": "ipython",
    "version": 3
   },
   "file_extension": ".py",
   "mimetype": "text/x-python",
   "name": "python",
   "nbconvert_exporter": "python",
   "pygments_lexer": "ipython3",
   "version": "3.9.13"
  }
 },
 "nbformat": 4,
 "nbformat_minor": 2
}
